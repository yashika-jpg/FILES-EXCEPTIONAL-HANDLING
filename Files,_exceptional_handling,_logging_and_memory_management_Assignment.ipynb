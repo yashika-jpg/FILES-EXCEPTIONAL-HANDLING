{
  "nbformat": 4,
  "nbformat_minor": 0,
  "metadata": {
    "colab": {
      "provenance": []
    },
    "kernelspec": {
      "name": "python3",
      "display_name": "Python 3"
    },
    "language_info": {
      "name": "python"
    }
  },
  "cells": [
    {
      "cell_type": "markdown",
      "source": [
        "# THEORY QUESTIONS\n",
        "\n",
        "1. What is the difference between interpreted and compiled languages?\n",
        "- Compiled and interpreted languages are two fundamental types of programming languages.\n",
        "\n",
        " >Compiled language - It is a programming language that is generally compiled and not interpret.It is one where the program, once compiled is expressed in the instructions of the target machine this machine code is undecipherable by humans. Types of compiled language - C, C++ etc.\n",
        "\n",
        " >Interpreted language - It is a programming language that is generally interpreted, without compile a program into machine instructions. It is the one where the instructions are not directly executed by the target machine, but instead, read and executed by some other program. Types of Interpreted language - Python , JavaScript etc.\n",
        "\n",
        "2. What is exception handling in Python?\n",
        "- Exception handling in Python refers to managing runtime errors that may occur during the execution of a program.Instead of letting your program crash, you can “catch” these errors and take appropriate actions\n",
        "\n",
        " In Python, exceptions are raised when errors or unexpected situations arise during program execution, such as division by zero, trying to access a file that does not exist, or attempting to perform an operation on incompatible data types.\n",
        "\n",
        "3. What is the purpose of the finally block in exception handling?\n",
        "- The `finally` block is a crucial component of exception handling in programming languages such as Python , java. Its primary purpose is to ensure that certain cleanup code runs regardless of whether an exception is thrown, providing a unified way to handle resource management, like closing files or releasing memory, after an operation.\n",
        "\n",
        "4. What is logging in Python?\n",
        "- The logging module in Python provides various functions and classes to configure logging effectively, including:\n",
        "\n",
        "    Loggers: Responsible for creating log entries.\n",
        "\n",
        "    Handlers: Send log records (created by loggers) to the appropriate destination.\n",
        "\n",
        "    Formatters: Specify the format of log records.\n",
        "\n",
        "    Filters: Add filtering functionality to handlers and loggers.\n",
        "\n",
        "- How Python Logging Works?\n",
        "Python logging works by creating loggers that generate log messages, handlers that send these messages to designated destinations, formatters that define the structure of the log messages, and filters that control which log records are output. When a logger records a message, it passes through the filters and is sent to the handlers, where it is formatted and finally output to the configured destination such as a file.\n",
        "\n",
        "5. What is the significance of the _ _del_ _ method in Python?\n",
        "- The _ _del_ _ method is a special method in Python that is called when an object is about to be destroyed. It allows you to define specific cleanup actions that should be taken when an object is garbage collected.\n",
        "\n",
        "  It allows you to define specific actions that should be taken when an object is garbage collected, such as closing files, releasing locks, or closing network connections.\n",
        "  \n",
        "  This method can enhance the robustness and reliability of your applications by preventing resource leaks and ensuring that resources are properly released.\n",
        "\n",
        "6. What is the difference between import and from ... import in Python ?\n",
        "- The difference between import and from import in Python is:\n",
        "\n",
        "    \"import\" imports an entire code library. we use \"import\" when we want to use multiple members of the module.\n",
        "\n",
        "    \"from...import\" imports a specific member or members of the library. Using from...import can save you from repeating the module name when you need to use its code many times in your code project.\n",
        "    we use \"from...import\" when we want to save ourself from typing the module name over and over again.\n",
        "\n",
        "7. How can you handle multiple exceptions in Python?\n",
        "- In Python, you can catch different types of exceptions and handle each one appropriately.\n",
        "\n",
        "Example:\n",
        "\n",
        "def divide_numbers(a, b):\n",
        "\n",
        "        result = a / b\n",
        "        # Convert result to integer\n",
        "        return int(result)\n",
        "    except ZeroDivisionError:\n",
        "        print(\"Error: Division by zero!\")\n",
        "        return None\n",
        "    except ValueError:\n",
        "        print(\"Error: Couldn't convert to integer!\")\n",
        "        return None\n",
        "\n",
        "# Example:\n",
        "print(divide_numbers(10, 2))\n",
        "    # Output: 5\n",
        "print(divide_numbers(10, 0))\n",
        "    # Output: Error: Division by zero! None\n",
        "print(divide_numbers(10.5, 2))\n",
        "    # Output: 5   \n",
        "\n",
        "8. What is the purpose of the with statement when handling files in Python ?\n",
        "- The with statement is used to simplify and enhance the process of working with files (or other resources) by ensuring proper resource management.\n",
        "\n",
        "    Its primary purpose is to handle the opening and closing of files automatically, even if an error occurs during file operations.  \n",
        "   \n",
        "    purposes:\n",
        "    1. Automatic Resource Management  \n",
        "    2. Cleaner and More Readable Code\n",
        "    3. Error Handling\n",
        "\n",
        "9. What is the difference between multithreading and multiprocessing?\n",
        "- The most significant difference between multiprocessing and multithreading is that multiprocessing executes many processes at the same time, whereas multithreading executes many threads of a process at the same time.\n",
        "\n",
        "    Multiprocessing and multithreading are two techniques used to improve the performance and efficiency of a system by executing multiple tasks concurrently. However, they achieve this in different ways and are suitable for different types of tasks.\n",
        "  \n",
        " > Multiprocessing\n",
        "\n",
        "Multiprocessing involves using multiple CPUs to run multiple processes simultaneously.\n",
        "\n",
        " --- Advantages:\n",
        "\n",
        "    Increased Computing Power\n",
        "\n",
        "    Isolation\n",
        "\n",
        "    Ideal for CPU-bound Tasks\n",
        "\n",
        " > Multithreading\n",
        "\n",
        "Multithreading is a technique to increase the throughput of a processor. In multithreading, accessing memory addresses is easy because all of the threads share the same parent process.\n",
        "\n",
        "  ---Advantages:\n",
        "\n",
        "    Memory Efficient\n",
        "\n",
        "    Faster Context Switching\n",
        "\n",
        "    Ideal for I/O-bound Tasks\n",
        "\n",
        "10. What are the advantages of using logging in a program ?\n",
        "- The advantages of using logging in a program are :\n",
        "\n",
        "  1. Monitoring: Provides insights into the application's behavior and performance, allowing for better management.\n",
        "  2. Auditing: Keeps a record of important events and actions for security purposes.\n",
        "  3. Troubleshooting: Facilitates tracking of program flow and variable values to understand unexpected behavior.\n",
        "  4. Performance Optimization: Assists in tracing code execution and optimizing performance.\n",
        "  5. Logging is essential for effective software development and maintenance.\n",
        "\n",
        "11. What is memory management in Python?\n",
        "- Python memory management is the process of allocating and dealing with memory so that your programs can run efficiently. One advantage of Python, compared to other programming languages, is that it can perform memory management tasks automatically.\n",
        "\n",
        "--> Pros and cons of Python memory management:\n",
        "\n",
        "  Python’s memory management, a pro being memory-efficient code, helps contribute to its widespread use. However, some minor challenges exist as well. Here’s a look at the pros and cons.\n",
        "\n",
        "   > Pros:\n",
        "\n",
        "   1. Code written in Python is efficient with its memory use, allowing you to minimize the demand on other system resources and increase processing speeds.\n",
        "\n",
        "   2. Python generators effectively handle memory for large data sets by creating data streams that prevent you from saving the whole data set in the memory.\n",
        "\n",
        "   3. Over-allocating memory leads to memory leaks, which cause programs to operate slower, but garbage collection helps prevent this.\n",
        "\n",
        "    > Cons:\n",
        "\n",
        "    1. Python memory management doesn’t offer the same level of manual customizability compared to other programming languages.\n",
        "\n",
        "    2. Program runtimes can potentially experience slower rates as sometimes the program holds freed memory in the interpreter rather than freeing it up for use by the operating system.\n",
        "\n",
        "12. What are the basic steps involved in exception handling in Python?\n",
        "-    \n",
        "\n",
        "13. Why is memory management important in Python?\n",
        "- Memory management is important in Python in any programming language because it directly affects the performance, reliability, and scalability.\n",
        "\n",
        " 1. Python programs run with limited memory. Proper memory management ensures:\n",
        "\n",
        "    Less memory waste\n",
        "\n",
        "    Lower risk of crashes due to memory exhaustion\n",
        "\n",
        " 2. python memory management try to avoid Memory Leaks.\n",
        "\n",
        "    Long-lived containers (like lists or dictionaries) that retain objects longer than needed   \n",
        "\n",
        " 3. Optimizing Data Structures\n",
        "\n",
        " > Python's high-level abstractions (lists, dicts, objects) are convenient but can be memory-hungry. Efficient memory management helps you:\n",
        "\n",
        "    . Choose lighter structures (tuple vs list, set vs list, __slots__ in classes)\n",
        "\n",
        "    . Reuse objects or use generators instead of loading large datasets into memory\n",
        "\n",
        "14. What is the role of try and except in exception handling?\n",
        "- Python has built-in exceptions which can output an error. If an error occurs while running the program, it’s called an exception.\n",
        "  If an exception occurs, the type of exception is shown.\n",
        "\n",
        "> The idea of the try-except block is this:\n",
        "\n",
        "   Try: The \"try\" block is used to enclose code that might raise an exception. When an exception occurs within the try block, control is immediately transferred to the corresponding \"except\" block (if any).\n",
        "\n",
        "   Except: This code is only executed if an exception occured in the try block. The except block is required with a try block, even if it contains only the pass statement.\n",
        "\n",
        "-- The idea of the try-except clause is to handle errors at runtime.The syntax of the try-except block is:\n",
        "\n",
        "try:\n",
        "\n",
        "    <do something>\n",
        "\n",
        "except Exception:\n",
        "\n",
        "    <handle the error>\n",
        "\n",
        "15.  How does Python's garbage collection system work?\n",
        "- Python's garbage collection system is a key part of its memory management strategy, designed to automatically reclaim memory occupied by objects that are no longer in use.\n",
        "\n",
        "Python uses a combination of reference counting and generational garbage collection.\n",
        "\n",
        ". Reference count\n",
        "    \n",
        " - Every object in Python has a reference count — the number of references pointing to it.\n",
        "\n",
        " - When an object’s reference count drops to zero, it is immediately deallocated.\n",
        "\n",
        ". Cyclic Garbage\n",
        "\n",
        " - Python can run into problems with reference cycles, where two or more objects reference each other but are no longer accessible from the program.\n",
        "   \n",
        " .  Garbage Collector (GC) for Cycles\n",
        "\n",
        " - To deal with cyclic references, Python includes a cyclic garbage collector in the gc module.\n",
        "\n",
        "   Python periodically scans objects for reference cycles.\n",
        "\n",
        "   It divides objects into three generations (0, 1, and 2).\n",
        "\n",
        "   New objects are added to generation 0.\n",
        "\n",
        "   Objects that survive GC are promoted to higher generations.  \n",
        "\n",
        " .  Generational Collection\n",
        "\n",
        "- Generation 0: Collected most frequently.\n",
        "\n",
        "- Generation 1: Collected less frequently.\n",
        "\n",
        "- Generation 2: Collected least frequently.   \n",
        "\n",
        "16. What is the purpose of the else block in exception handling?\n",
        "- Purpose of the else Block:\n",
        "\n",
        " 1.Separation of concerns: It keeps the code that should run only when everything goes smoothly separate from the try block, which is meant for risky operations.\n",
        "\n",
        " 2.Improved readability: It makes the flow of logic clearer—what happens when things go wrong (except), what happens when they go right (else), and what always happens (finally).\n",
        "\n",
        " 3.Avoids masking errors: By placing non-risky code in the else block, you prevent it from being accidentally caught by the except clause.\n",
        "\n",
        "17. What are the common logging levels in Python?\n",
        "- The common logging levels in python includes:--\n",
        "\n",
        "  Notset : This is the initial default setting of a log when it is created. It is not really relevant and mostly it will not even take as in notice of this category.\n",
        "\n",
        "  Debug : This level gives detailed information, useful only when a problem is being diagnosed.\n",
        "\n",
        "  Info: This is used to confirm that everything is working as it should.\n",
        "\n",
        "  Warning : This level indicates that something unexpected has happened or some problem is about to happen in the near future.\n",
        "\n",
        "  Error: As it implies, an error has occurred. The software was unable to perform some function.\n",
        "\n",
        "  Critical: A serious error has occurred. The program itself may shut down or not be able to continue running properly.\n",
        "\n",
        "18.What is the difference between os.fork() and multiprocessing in Python?\n",
        "- os.fork() vs multiprocessing in Python\n",
        "\n",
        "- Os.fork() - It is a low-level system call available only on Unix-like systems. It creates a child process by duplicating the current process.\n",
        "\n",
        "   It’s fast and efficient but lacks cross-platform support and requires manual management of processes.\n",
        "\n",
        "- Multiprocessing - It is a high-level Python module that abstracts process creation.\n",
        "\n",
        "   It works across platforms (including Windows), internally uses os.fork() provides built-in tools for inter-process communication and process management.\n",
        "\n",
        "19. What is the importance of closing a file in Python?\n",
        "-  Closing a file in python is important for many reasons :\n",
        "\n",
        ". Releases system resources.\n",
        "\n",
        ". Ensures all data is properly written.\n",
        "\n",
        ". Prevents file corruption.\n",
        "\n",
        ". Avoids access conflicts.\n",
        "\n",
        "20. What is the difference between file.read() and file.readline() in Python?\n",
        "- The difference between file.read() and file.readline() lies in how much of the file's content is read:\n",
        "\n",
        ".  file.read([size])\n",
        "\n",
        "Reads the entire file (or up to size bytes/characters if specified).\n",
        "\n",
        "Returns the content as one single string.\n",
        "\n",
        "Used when you want to read the whole file at once.\n",
        "\n",
        "Example:\n",
        "\n",
        "    with open('example.txt', 'r') as file:\n",
        "    content = file.read()\n",
        "    print(content)\n",
        "\n",
        ".  file.readline()\n",
        "\n",
        "Reads only one line from the file.\n",
        "\n",
        "Returns the next line as a string, including the newline character (\\n), unless it's the last line.\n",
        "\n",
        "Each call reads the next line sequentially.\n",
        "\n",
        "Good for looping through a file line by line.\n",
        "\n",
        "    with open('example.txt', 'r') as file:\n",
        "    line1 = file.readline()\n",
        "    print(line1)\n",
        "\n",
        "21. What is the logging module in Python used for?\n",
        "- Following are the usage for each logging level in Python −\n",
        "\n",
        "  - Choosing the Right Level − Selecting the appropriate logging level ensures that log messages provide relevant information without cluttering the logs.\n",
        "\n",
        "  - Setting Levels − Loggers, handlers, and specific log messages can be configured with different levels to control which messages are recorded and where they are outputted.\n",
        "\n",
        "  - Hierarchy − Logging levels are hierarchical, meaning that setting a level on a logger also affects the handlers and log messages associated with it.   \n",
        "\n",
        "22. What is the os module in Python used for in file handling ?\n",
        "- The os module, short for “operating system,” is a built-in module in Python that allows developers to access and interact with various operating system functionalities.\n",
        "\n",
        "  It provides a consistent interface for working with different operating systems making it highly portable and versatile.\n",
        "\n",
        "23. What are the challenges associated with memory management in Python?\n",
        "- There are following challenges with memory management:\n",
        "\n",
        "  - Memory leaks - Often due to circular references or long-lived objects\n",
        "\n",
        "  - High memory usage - Dynamic typing and object overhead\n",
        "\n",
        "  - GC overhead - Garbage collection can cause performance dips\n",
        "\n",
        "  - Manual cleanup needed - Especially for file handles, sockets, or large structures\n",
        "\n",
        "  - Third-party extensions - May mismanage memory outside Pythons GC control\n",
        "\n",
        "24. How do you raise an exception manually in Python?\n",
        "- In Python, you can manually raise an exception by using the raise statement.\n",
        " The raise statement allows you to throw an exception at any point in your code, interrupting the normal flow of execution and signaling that something has gone wrong.\n",
        "\n",
        "Example:\n",
        "\n",
        "    def divide(x, y):\n",
        "\n",
        "    if y == 0:\n",
        "\n",
        "        raise ZeroDivisionError(\"Cannot divide by zero\")\n",
        "\n",
        "    return x / y\n",
        "\n",
        "    print(divide(10, 2))\n",
        "    print(divide(10, 0))\n",
        "\n",
        "In this example, we have a function divide that divides two numbers. If the second argument is zero, the function raises a ZeroDivisionError exception with the message \"Cannot divide by zero\".\n",
        "\n",
        "25. Why is it important to use multithreading in certain applications?\n",
        "- Multithreading allows many parts of a program to run simultaneously.\n",
        " These parts are referred to as threads, and they are lightweight processes that are available within the process.\n",
        "\n",
        "   - Keeps apps responsive (e.g., GUIs don't freeze during long tasks)\n",
        "\n",
        "   - Improves I/O performance (e.g., reading files, making web requests)\n",
        "\n",
        "   - Handles multiple tasks at once (concurrency)\n",
        "\n",
        "   - Reduces overhead compared to multiprocessing\n",
        "\n",
        "   - Good for scalable applications like servers\n",
        "\n",
        "\n",
        "              ----------------------------------------\n"
      ],
      "metadata": {
        "id": "NxjmT5E2Lm95"
      }
    },
    {
      "cell_type": "code",
      "source": [
        "# 1. How can you open a file for writing in Python and write a string to it?\n",
        "\n",
        "# To open a file for writing in Python and write a string to it, you can use the built-in open() function with the mode 'w'.\n",
        "\n",
        "# Open the file in write mode ('w')\n",
        "with open(\"example.txt\", \"w\") as file:\n",
        "\n",
        "# Write a string to the file\n",
        "  file.write(\"Hello World!\")"
      ],
      "metadata": {
        "id": "EoDBZBOURmUQ"
      },
      "execution_count": 1,
      "outputs": []
    },
    {
      "cell_type": "code",
      "source": [
        "# 2. Write a Python program to read the contents of a file and print each line.\n",
        "\n",
        "# Open the file in read mode\n",
        "try:\n",
        "    with open(\"example.txt\", \"r\") as file:\n",
        "        # Read and print each line\n",
        "        for line in file:\n",
        "            print(line.strip())  # Use strip() to remove any extra whitespace or newline characters\n",
        "except FileNotFoundError:\n",
        "    print(\"The file 'example.txt' was not found. Please check the file name and path.\")\n",
        "except Exception as e:\n",
        "    print(f\"An error occurred: {e}\")"
      ],
      "metadata": {
        "colab": {
          "base_uri": "https://localhost:8080/"
        },
        "id": "pnkhqa92TZkc",
        "outputId": "69cacc43-e9de-49e6-ecec-9951bbee61fa"
      },
      "execution_count": 4,
      "outputs": [
        {
          "output_type": "stream",
          "name": "stdout",
          "text": [
            "Hello World!\n"
          ]
        }
      ]
    },
    {
      "cell_type": "code",
      "source": [
        "# 3. How would you handle a case where the file doesn't exist while trying to open it for reading.\n",
        "\n",
        "#To handle a case where a file doesn't exist while trying to open it for reading in Python, you use exception handling with a try-except block.\n",
        "try:\n",
        "    with open(\"data.txt\", \"r\") as file:\n",
        "        content = file.read()\n",
        "        print(content)\n",
        "except FileNotFoundError:\n",
        "    print(\"Error: The file 'data.txt' does not exist.\")\n",
        "\n",
        "#try block: Attempts to open and read the file.\n",
        "\n",
        "#except FileNotFoundError: Catches the specific error if the file is missing.\n"
      ],
      "metadata": {
        "colab": {
          "base_uri": "https://localhost:8080/"
        },
        "id": "RakGmx3rWDaE",
        "outputId": "44190c96-1e10-482d-cc14-dc181931da95"
      },
      "execution_count": 5,
      "outputs": [
        {
          "output_type": "stream",
          "name": "stdout",
          "text": [
            "Error: The file 'data.txt' does not exist.\n"
          ]
        }
      ]
    },
    {
      "cell_type": "code",
      "source": [
        "# 4. Write a Python script that reads from one file and writes its content to another file\n",
        "\n",
        "try:\n",
        "    # Open source file for reading\n",
        "    with open(\"source.txt\", \"r\") as source_file:\n",
        "        content = source_file.read()\n",
        "\n",
        "    # Open destination file for writing\n",
        "    with open(\"destination.txt\", \"w\") as destination_file:\n",
        "        destination_file.write(content)\n",
        "\n",
        "    print(\"File copied successfully.\")\n",
        "\n",
        "except FileNotFoundError:\n",
        "    print(\"Error: Source file not found.\")\n",
        "except IOError as e:\n",
        "    print(f\"I/O error occurred: {e}\")\n"
      ],
      "metadata": {
        "colab": {
          "base_uri": "https://localhost:8080/"
        },
        "id": "OhvX7CFeWvmd",
        "outputId": "2a69b26b-7152-4b2a-8180-74addf29ba32"
      },
      "execution_count": 6,
      "outputs": [
        {
          "output_type": "stream",
          "name": "stdout",
          "text": [
            "Error: Source file not found.\n"
          ]
        }
      ]
    },
    {
      "cell_type": "code",
      "source": [
        "# 5. How would you catch and handle division by zero error in Python?\n",
        "\n",
        "# To catch and handle a division by zero error in Python weuse a try-except block that specifically targets the ZeroDivisionError exception.\n",
        "\n",
        "try:\n",
        "    result = 10 / 0\n",
        "except ZeroDivisionError:\n",
        "    print(\"Error: Division by zero is not allowed.\")\n"
      ],
      "metadata": {
        "colab": {
          "base_uri": "https://localhost:8080/"
        },
        "id": "aFdHFtFQXUMl",
        "outputId": "e7ead102-dd7e-4a3f-e50e-2b1fbcc5e8a1"
      },
      "execution_count": 7,
      "outputs": [
        {
          "output_type": "stream",
          "name": "stdout",
          "text": [
            "Error: Division by zero is not allowed.\n"
          ]
        }
      ]
    },
    {
      "cell_type": "code",
      "source": [
        "# 6.  Write a Python program that logs an error message to a log file when a division by zero exception occurs.\n",
        "\n",
        "#To log an error message to a log file when a division by zero exception occurs we use Python’s built-in logging module along with a try-except block.\n",
        "\n",
        "import logging\n",
        "\n",
        "# logging to write to a file\n",
        "logging.basicConfig(filename=\"error.log\", level=logging.ERROR)\n",
        "\n",
        "try:\n",
        "    result = 10 / 0\n",
        "except ZeroDivisionError as e:\n",
        "    logging.error(\"Division by zero occurred: %s\", e)\n"
      ],
      "metadata": {
        "colab": {
          "base_uri": "https://localhost:8080/"
        },
        "id": "CU0jf2gaX3NN",
        "outputId": "c85a250f-085a-4c2e-9c7d-51db353fca08"
      },
      "execution_count": 8,
      "outputs": [
        {
          "output_type": "stream",
          "name": "stderr",
          "text": [
            "ERROR:root:Division by zero occurred: division by zero\n"
          ]
        }
      ]
    },
    {
      "cell_type": "code",
      "source": [
        "# 7.  How do you log information at different levels (INFO, ERROR, WARNING) in Python using the logging module\n",
        "\n",
        "import logging\n",
        "\n",
        "# logging\n",
        "\n",
        "logging.basicConfig(level=logging.INFO)\n",
        "\n",
        "logging.info(\"This is an info message.\")\n",
        "logging.warning(\"This is a warning message.\")\n",
        "logging.error(\"This is an error message.\")\n",
        "\n"
      ],
      "metadata": {
        "id": "iVGYfQ4ZYcuN"
      },
      "execution_count": null,
      "outputs": []
    },
    {
      "cell_type": "code",
      "source": [
        "# 8. Write a program to handle a file opening error using exception handling.\n",
        "\n",
        "try:\n",
        "    with open(\"data.txt\", \"r\") as file:\n",
        "        content = file.read()\n",
        "        print(content)\n",
        "except FileNotFoundError:\n",
        "    print(\"Error: The file 'data.txt' was not found.\")\n",
        "except IOError as e:\n",
        "    print(f\"I/O error occurred: {e}\")\n"
      ],
      "metadata": {
        "id": "INNg6iSHZKLh"
      },
      "execution_count": null,
      "outputs": []
    },
    {
      "cell_type": "code",
      "source": [
        "# 9. How can you read a file line by line and store its content in a list in Python\n",
        "\n",
        "lines = []\n",
        "\n",
        "try:\n",
        "    with open(\"data.txt\", \"r\") as file:\n",
        "        lines = file.readlines()\n",
        "\n",
        "    print(\"File content as list:\")\n",
        "    print(lines)\n",
        "\n",
        "except FileNotFoundError:\n",
        "    print(\"File not found.\")\n"
      ],
      "metadata": {
        "colab": {
          "base_uri": "https://localhost:8080/"
        },
        "id": "M73dq-ZvZlc2",
        "outputId": "229dadc7-1635-4a93-c257-e3f13a91abc8"
      },
      "execution_count": 10,
      "outputs": [
        {
          "output_type": "stream",
          "name": "stdout",
          "text": [
            "File not found.\n"
          ]
        }
      ]
    },
    {
      "cell_type": "code",
      "source": [
        "# 10. How can you append data to an existing file in Python?\n",
        "# To append data to an existing file in Python, you open the file in append mode using the \"a\" flag.\n",
        "\n",
        "try:\n",
        "    with open(\"log.txt\", \"a\") as file:\n",
        "        file.write(\"New log entry added.\\n\")\n",
        "    print(\"Data appended successfully.\")\n",
        "except IOError as e:\n",
        "    print(f\"An error occurred while appending to the file: {e}\")\n"
      ],
      "metadata": {
        "id": "_LhmGAm8bFLV"
      },
      "execution_count": null,
      "outputs": []
    },
    {
      "cell_type": "code",
      "source": [
        "# 12.  Write a program that demonstrates using multiple except blocks to handle different types of exception\n",
        "\n",
        "try:\n",
        "    # Trigger a KeyError\n",
        "    data = {\"name\": \"Daksh\"}\n",
        "    print(data[\"age\"])\n",
        "\n",
        "    # Trigger a ZeroDivisionError\n",
        "    result = 10 / 0\n",
        "\n",
        "except KeyError:\n",
        "    print(\"KeyError: The specified key does not exist in the dictionary.\")\n",
        "\n",
        "except ZeroDivisionError:\n",
        "    print(\"ZeroDivisionError: Division by zero is not allowed.\")\n",
        "\n",
        "except Exception as e:\n",
        "    print(f\"An unexpected error occurred: {e}\")\n"
      ],
      "metadata": {
        "id": "9ns9jDaYbc4G"
      },
      "execution_count": null,
      "outputs": []
    },
    {
      "cell_type": "code",
      "source": [
        "# 13. How would you check if a file exists before attempting to read it in Python?\n",
        "\n",
        "# To check if a file exists before attempting to read it in Python, you typically use the os.path.exists() function from the os module.\n",
        "\n",
        "import os\n",
        "\n",
        "filename = \"data.txt\"\n",
        "\n",
        "if os.path.exists(filename):\n",
        "    with open(filename, \"r\") as file:\n",
        "        content = file.read()\n",
        "        print(content)\n",
        "else:\n",
        "    print(f\"Error: The file '{filename}' does not exist.\")\n"
      ],
      "metadata": {
        "id": "n-eWOi-7b5_U"
      },
      "execution_count": null,
      "outputs": []
    },
    {
      "cell_type": "code",
      "source": [
        "# 14.  Write a program that uses the logging module to log both informational and error messages.\n",
        "\n",
        "import logging\n",
        "\n",
        "# Configure logging to write to a file\n",
        "logging.basicConfig(filename=\"app.log\", level=logging.DEBUG,\n",
        "                    format=\"%(asctime)s - %(levelname)s - %(message)s\")\n",
        "\n",
        "# Log an informational message\n",
        "logging.info(\"Program started successfully.\")\n",
        "\n",
        "try:\n",
        "    # Simulate a division operation\n",
        "    result = 10 / 0\n",
        "except ZeroDivisionError as e:\n",
        "    # Log an error message\n",
        "    logging.error(\"Division by zero error occurred: %s\", e)\n",
        "\n",
        "# Log another informational message\n",
        "logging.info(\"Program execution completed.\")\n"
      ],
      "metadata": {
        "id": "ByathCgzcMeV"
      },
      "execution_count": null,
      "outputs": []
    },
    {
      "cell_type": "code",
      "source": [
        "# 15. Write a Python program that prints the content of a file and handles the case when the file is empty.\n",
        "\n",
        "try:\n",
        "    with open(\"data.txt\", \"r\") as file:\n",
        "        content = file.read()\n",
        "\n",
        "        if content:\n",
        "            print(\"File content:\\n\", content)\n",
        "        else:\n",
        "            print(\"Notice: The file is empty.\")\n",
        "\n",
        "except FileNotFoundError:\n",
        "    print(\"Error: The file 'data.txt' does not exist.\")\n",
        "except IOError as e:\n",
        "    print(f\"I/O error occurred: {e}\")\n"
      ],
      "metadata": {
        "id": "AhSlEXq8cm88"
      },
      "execution_count": null,
      "outputs": []
    },
    {
      "cell_type": "code",
      "source": [
        "# 16. Demonstrate how to use memory profiling to check the memory usage of a small program.\n",
        "\n",
        "#⃣⃣ Install the memory_profiler Module in your Colab , run:\n",
        "\n",
        "pip install memory-profiler\n",
        "\n",
        "#⃣⃣ Write a Python Program\n",
        "\n",
        "from memory_profiler import profile\n",
        "\n",
        "@profile\n",
        "def process_data():\n",
        "    data = [i * 2 for i in range(10000)]\n",
        "    squared = [x ** 2 for x in data]\n",
        "    return squared\n",
        "\n",
        "process_data()\n",
        "\n",
        "#⃣⃣ Run with Memory Profiler\n",
        "\n",
        "python -m memory_profiler your_script.py\n"
      ],
      "metadata": {
        "id": "pB5IH07mcx8u"
      },
      "execution_count": null,
      "outputs": []
    },
    {
      "cell_type": "code",
      "source": [
        "# 17.  Write a Python program to create and write a list of numbers to a file, one number per line.\n",
        "\n",
        "numbers = [1, 2, 3, 4, 5]  # You can customize this list\n",
        "\n",
        "try:\n",
        "    with open(\"numbers.txt\", \"w\") as file:\n",
        "        for number in numbers:\n",
        "            file.write(f\"{number}\\n\")\n",
        "    print(\"Numbers written to file successfully.\")\n",
        "except IOError as e:\n",
        "    print(f\"An I/O error occurred: {e}\")\n"
      ],
      "metadata": {
        "colab": {
          "base_uri": "https://localhost:8080/"
        },
        "id": "flBa3SNQeDiG",
        "outputId": "5dfe8540-f4e7-45d2-be61-4473952c9ba9"
      },
      "execution_count": 11,
      "outputs": [
        {
          "output_type": "stream",
          "name": "stdout",
          "text": [
            "Numbers written to file successfully.\n"
          ]
        }
      ]
    },
    {
      "cell_type": "code",
      "source": [
        "# 19. Write a program that handles both IndexError and KeyError using a try-except block.\n",
        "\n",
        "try:\n",
        "    # Trigger IndexError\n",
        "    items = [1, 2, 3]\n",
        "    print(items[5])\n",
        "\n",
        "    # Trigger KeyError\n",
        "    info = {\"name\": \"Daksh\"}\n",
        "    print(info[\"age\"])\n",
        "\n",
        "except IndexError:\n",
        "    print(\"IndexError: Tried to access an invalid index in the list.\")\n",
        "\n",
        "except KeyError:\n",
        "    print(\"KeyError: Tried to access a missing key in the dictionary.\")\n"
      ],
      "metadata": {
        "id": "GwWY30sxeTgl"
      },
      "execution_count": null,
      "outputs": []
    },
    {
      "cell_type": "code",
      "source": [
        "# 20. How would you open a file and read its contents using a context manager in Python.\n",
        "\n",
        "# To open a file and read its contents using a context manager in Python, you typically use the with statement.\n",
        "\n",
        "try:\n",
        "    with open(\"example.txt\", \"r\") as file:\n",
        "        content = file.read()\n",
        "        print(content)\n",
        "except FileNotFoundError:\n",
        "    print(\"Error: The file does not exist.\")\n"
      ],
      "metadata": {
        "id": "WxlelsbgekAE"
      },
      "execution_count": null,
      "outputs": []
    },
    {
      "cell_type": "code",
      "source": [
        "# 21.  Write a Python program that reads a file and prints the number of occurrences of a specific word.\n",
        "\n",
        "def count_word_occurrences(filename, target_word):\n",
        "    try:\n",
        "        with open(filename, \"r\") as file:\n",
        "            content = file.read()\n",
        "\n",
        "     # Normalize case and split into words\n",
        "\n",
        "            words = content.lower().split()\n",
        "            count = words.count(target_word.lower())\n",
        "            print(f\"The word '{target_word}' occurs {count} times.\")\n",
        "    except FileNotFoundError:\n",
        "        print(f\"Error: The file '{filename}' does not exist.\")\n",
        "    except IOError as e:\n",
        "        print(f\"I/O error occurred: {e}\")\n"
      ],
      "metadata": {
        "id": "khK_Uj36ex-u"
      },
      "execution_count": null,
      "outputs": []
    },
    {
      "cell_type": "code",
      "source": [
        "# 22.  How can you check if a file is empty before attempting to read its contents?\n",
        "\n",
        "import os\n",
        "\n",
        "filename = \"data.txt\"\n",
        "\n",
        "# Check if the file exists and whether it's empty\n",
        "\n",
        "if os.path.exists(filename):\n",
        "    if os.path.getsize(filename) > 0:\n",
        "        with open(filename, \"r\") as file:\n",
        "            content = file.read()\n",
        "            print(\"File Content:\\n\", content)\n",
        "    else:\n",
        "        print(\"Notice: The file is empty.\")\n",
        "else:\n",
        "    print(f\"Error: The file '{filename}' does not exist.\")\n"
      ],
      "metadata": {
        "id": "WNU9L6M_fHVe"
      },
      "execution_count": null,
      "outputs": []
    },
    {
      "cell_type": "code",
      "source": [
        "# 23. Write a Python program that writes to a log file when an error occurs during file handling.\n",
        "\n",
        "import logging\n",
        "\n",
        "#"
      ],
      "metadata": {
        "id": "-IzcOva8fUed"
      },
      "execution_count": null,
      "outputs": []
    }
  ]
}